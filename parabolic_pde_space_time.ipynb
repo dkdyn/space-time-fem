{
 "cells": [
  {
   "cell_type": "markdown",
   "id": "97f6a587",
   "metadata": {},
   "source": [
    "### Tutorial on Space-time FEM with FEniCSx\n",
    "Dominik Kern ORCID [0000-0002-1958-2982](https://orcid.org/0000-0002-1958-2982) \n",
    "\n",
    "This notebook is a supplement to the tutorial TODO zenodo.doi\n",
    "\n",
    "**solving the non-dimensional heat equation in a 1D bar using a full space-time finite element method** "
   ]
  },
  {
   "cell_type": "code",
   "execution_count": null,
   "id": "3276c451",
   "metadata": {},
   "outputs": [],
   "source": [
    "import numpy as np\n",
    "import ufl\n",
    "from dolfinx.fem import (Constant, Function, functionspace, dirichletbc, form, assemble_scalar, Expression)\n",
    "from dolfinx.fem.petsc import LinearProblem\n",
    "from dolfinx.fem import locate_dofs_geometrical\n",
    "from dolfinx import plot\n",
    "from dolfinx import default_scalar_type\n",
    "from dolfinx import mesh \n",
    "from mpi4py import MPI\n",
    "import matplotlib.pyplot as plt\n",
    "import pyvista as pv"
   ]
  },
  {
   "cell_type": "markdown",
   "id": "57cf3ca0",
   "metadata": {},
   "source": [
    "#### parameters"
   ]
  },
  {
   "cell_type": "code",
   "execution_count": null,
   "id": "51f4ab24",
   "metadata": {},
   "outputs": [],
   "source": [
    "comm = MPI.COMM_WORLD\n",
    "nx = 4 # Number of spatial elements\n",
    "nt = 8 # Number of temporal elements\n",
    "order = 1  # Polynomial order"
   ]
  },
  {
   "cell_type": "markdown",
   "id": "865982b8",
   "metadata": {},
   "source": [
    "#### discretization"
   ]
  },
  {
   "cell_type": "code",
   "execution_count": null,
   "id": "55642ff9",
   "metadata": {},
   "outputs": [],
   "source": [
    "domain = mesh.create_unit_square(comm, nx, nt, cell_type=mesh.CellType.quadrilateral) #\n",
    "\n",
    "V = functionspace(domain, (\"Lagrange\", order))\n",
    "\n",
    "\n",
    "# Define the initial, i.e. time boundary, condition u(x, 0)\n",
    "def initial_condition_func(x):\n",
    "    return np.sin(np.pi * x[0])\n",
    "\n",
    "u_initial = Function(V)\n",
    "u_initial.interpolate(initial_condition_func)\n",
    "initial_dofs = locate_dofs_geometrical(V, lambda x: np.isclose(x[1], 0))\n",
    "bc_initial = dirichletbc(u_initial, initial_dofs)\n",
    "\n",
    "# Define the spatial boundary condition u(0, t)\n",
    "left_boundary_dofs = locate_dofs_geometrical(V, lambda x: np.isclose(x[0], 0))\n",
    "bc_left = dirichletbc(np.float64(0.0), left_boundary_dofs, V)\n",
    "\n",
    "# Define the spatial boundary condition u(1, t) \n",
    "right_boundary_dofs = locate_dofs_geometrical(V, lambda x: np.isclose(x[0], 1))\n",
    "bc_right = dirichletbc(np.float64(0.0), right_boundary_dofs, V)\n",
    "\n",
    "# Combine all boundary conditions (space and time)\n",
    "bcs = [bc_initial, bc_left, bc_right]\n",
    "\n",
    "# ---   3. Define the variational problem   ---\n",
    "u = ufl.TrialFunction(V)\n",
    "Du = ufl.TestFunction(V)\n",
    "\n",
    "# Weak form\n",
    "a = (ufl.grad(u)[1] * Du + ufl.grad(u)[0] * ufl.grad(Du)[0]) * ufl.dx\n",
    "L = Constant(domain, np.float64(0.0)) * Du * ufl.dx # Homogeneous PDE"
   ]
  },
  {
   "cell_type": "markdown",
   "id": "a79bcd8f",
   "metadata": {},
   "source": [
    "##### solution"
   ]
  },
  {
   "cell_type": "code",
   "execution_count": null,
   "id": "ae8e16ff",
   "metadata": {},
   "outputs": [],
   "source": [
    "# This solves for the entire space-time solution at once.\n",
    "problem = LinearProblem(a, L, bcs=bcs, petsc_options={\"ksp_type\": \"preonly\", \"pc_type\": \"lu\"})\n",
    "uh = problem.solve()\n",
    "uh.name = \"u_spacetime\""
   ]
  },
  {
   "cell_type": "markdown",
   "id": "f3edcbd1",
   "metadata": {},
   "source": [
    "#### post-processing"
   ]
  },
  {
   "cell_type": "code",
   "execution_count": null,
   "id": "3c99caf9",
   "metadata": {},
   "outputs": [],
   "source": [
    "u_topology, u_cell_types, u_geometry = plot.vtk_mesh(V)\n",
    "u_grid = pv.UnstructuredGrid(u_topology, u_cell_types, u_geometry)\n",
    "u_grid.point_data[\"u\"] = uh.x.array.real\n",
    "u_grid.set_active_scalars(\"u\")\n",
    "u_warped = u_grid.warp_by_scalar()\n",
    "plotter = pv.Plotter()\n",
    "plotter.add_mesh(u_warped, show_edges=True, scalar_bar_args={'vertical':True})\n",
    "if not pv.OFF_SCREEN:\n",
    "    plotter.show_grid(xlabel=\"x\", ylabel=\"t\", zlabel=\"u\")\n",
    "    plotter.show()"
   ]
  },
  {
   "cell_type": "code",
   "execution_count": null,
   "id": "95f082c7",
   "metadata": {},
   "outputs": [],
   "source": []
  }
 ],
 "metadata": {
  "kernelspec": {
   "display_name": "Python (fx ipy)",
   "language": "python",
   "name": "fx-ipy"
  },
  "language_info": {
   "codemirror_mode": {
    "name": "ipython",
    "version": 3
   },
   "file_extension": ".py",
   "mimetype": "text/x-python",
   "name": "python",
   "nbconvert_exporter": "python",
   "pygments_lexer": "ipython3",
   "version": "3.13.3"
  }
 },
 "nbformat": 4,
 "nbformat_minor": 5
}
