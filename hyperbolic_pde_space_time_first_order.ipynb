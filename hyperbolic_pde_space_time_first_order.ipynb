{
 "cells": [
  {
   "cell_type": "markdown",
   "id": "f3d30bd4",
   "metadata": {},
   "source": [
    "### Tutorial on Space-time FEM with FEniCSx\n",
    "Dominik Kern ORCID [0000-0002-1958-2982](https://orcid.org/0000-0002-1958-2982) \n",
    "\n",
    "This notebook is a supplement to the tutorial with doi [10.5281/zenodo.16761462](https://zenodo.org/records/16761462)\n",
    "\n",
    "**solving the non-dimensional wave equation in a 1D bar with space-time finite-elements in the formulation as first-order system** \n"
   ]
  },
  {
   "cell_type": "code",
   "execution_count": null,
   "id": "8c533771",
   "metadata": {},
   "outputs": [],
   "source": [
    "from mpi4py import MPI\n",
    "import dolfinx\n",
    "from dolfinx.fem.petsc import LinearProblem\n",
    "import basix.ufl\n",
    "import ufl\n",
    "import numpy as np\n",
    "import pyvista as pv\n",
    "from dolfinx import default_scalar_type"
   ]
  },
  {
   "cell_type": "markdown",
   "id": "a7a720eb",
   "metadata": {},
   "source": [
    "#### parameters"
   ]
  },
  {
   "cell_type": "code",
   "execution_count": null,
   "id": "566207f9",
   "metadata": {},
   "outputs": [],
   "source": [
    "nx = 4  # Number of spatial elements\n",
    "nt = 8  # Number of time elements\n",
    "order = 1  # Polynomial order"
   ]
  },
  {
   "cell_type": "markdown",
   "id": "c3e62038",
   "metadata": {},
   "source": [
    "#### discretization"
   ]
  },
  {
   "cell_type": "code",
   "execution_count": null,
   "id": "c2144ef5",
   "metadata": {},
   "outputs": [],
   "source": [
    "domain = dolfinx.mesh.create_unit_square(MPI.COMM_WORLD, nx, nt, dolfinx.mesh.CellType.quadrilateral)\n",
    "\n",
    "el_u = basix.ufl.element(\"Lagrange\", domain.basix_cell(), order)\n",
    "el_v = basix.ufl.element(\"Lagrange\", domain.basix_cell(), order)\n",
    "el_mixed = basix.ufl.mixed_element([el_u, el_v])\n",
    "\n",
    "W = dolfinx.fem.functionspace(domain, el_mixed)\n",
    "u, v = ufl.TrialFunctions(W)\n",
    "Du, Dv = ufl.TestFunctions(W)\n",
    "\n",
    "# Equation 1: du/dt - v = 0\n",
    "a1 = (u.dx(1) - v )* Dv * ufl.dx\n",
    "L1 = dolfinx.fem.Constant(domain, dolfinx.default_scalar_type(0.0)) * Dv * ufl.dx\n",
    "\n",
    "# Equation 2: dv/dt - d^2u/dx^2 = f\n",
    "# Integrate by parts in space:   d^2u/dx^2   -->  du/dx * dw_v/dx\n",
    "a2 = (v.dx(1) * Du + u.dx(0) * Du.dx(0)) * ufl.dx\n",
    "f = dolfinx.fem.Constant(domain, dolfinx.default_scalar_type(0.0)) # Source term\n",
    "L2 = f * Du * ufl.dx\n",
    "\n",
    "# Combine into a single system\n",
    "a = a1 + a2 \n",
    "L_form = L1 + L2"
   ]
  },
  {
   "cell_type": "markdown",
   "id": "9c64a689",
   "metadata": {},
   "source": [
    "boundary conditions (including initial conditions as boundaries conditions in time)"
   ]
  },
  {
   "cell_type": "code",
   "execution_count": null,
   "id": "0636774b",
   "metadata": {},
   "outputs": [],
   "source": [
    "def left_right_marker(x):\n",
    "    return np.logical_or(np.isclose(x[0], 0.0), np.isclose(x[0], 1.0))\n",
    "left_right_facets = dolfinx.mesh.locate_entities_boundary(domain, domain.topology.dim - 1, left_right_marker)\n",
    "\n",
    "def initial_time_marker(x):\n",
    "    return np.isclose(x[1], 0.0)\n",
    "initial_time_facets = dolfinx.mesh.locate_entities_boundary(domain, domain.topology.dim - 1, initial_time_marker)\n",
    "\n",
    "W0 = W.sub(0)\n",
    "U, U_to_W0 = W0.collapse()\n",
    "\n",
    "W1 = W.sub(1)\n",
    "V, V_to_W1 = W1.collapse()\n",
    "\n",
    "leftright_u_dofs   = dolfinx.fem.locate_dofs_topological((W0,U), domain.topology.dim - 1, left_right_facets)\n",
    "initial_u_dofs = dolfinx.fem.locate_dofs_topological((W0,U), domain.topology.dim - 1, initial_time_facets)\n",
    "initial_v_dofs = dolfinx.fem.locate_dofs_topological((W1,V), domain.topology.dim - 1, initial_time_facets)\n",
    "\n",
    "leftright_u = dolfinx.fem.Function(U)\n",
    "leftright_u.x.array[:] = 0.0\n",
    "leftright_u_bc = dolfinx.fem.dirichletbc(leftright_u, leftright_u_dofs, W0)\n",
    "\n",
    "initial_u = dolfinx.fem.Function(U)\n",
    "def initial_u_f(x):\n",
    "    values = np.zeros((1, x.shape[1]))\n",
    "    values[0, :] = np.sin(np.pi * x[0])\n",
    "    return values\n",
    "initial_u.interpolate(initial_u_f)\n",
    "initial_u_bc = dolfinx.fem.dirichletbc(initial_u, initial_u_dofs, W0)\n",
    "\n",
    "# could be done shorter for zero initial velocity, but we wanted to keep the option for functions v0(x)\n",
    "initial_v = dolfinx.fem.Function(V)\n",
    "def initial_v_f(x):\n",
    "    values = np.zeros((1, x.shape[1]))\n",
    "    values[0, :] = 0.0*x[0]\n",
    "    return values\n",
    "initial_v.interpolate(initial_v_f)\n",
    "initial_v_bc = dolfinx.fem.dirichletbc(initial_v, initial_v_dofs, W1)\n",
    "\n",
    "bcs = [leftright_u_bc, initial_u_bc, initial_v_bc]"
   ]
  },
  {
   "cell_type": "markdown",
   "id": "afbae0f9",
   "metadata": {},
   "source": [
    "##### solution"
   ]
  },
  {
   "cell_type": "code",
   "execution_count": null,
   "id": "b8709cb2",
   "metadata": {},
   "outputs": [],
   "source": [
    "problem = LinearProblem(a, L_form, bcs=bcs, petsc_options={\"ksp_type\": \"preonly\", \"pc_type\": \"lu\"})\n",
    "w_sol = problem.solve()"
   ]
  },
  {
   "cell_type": "markdown",
   "id": "76eb00ec",
   "metadata": {},
   "source": [
    "#### post-processing"
   ]
  },
  {
   "cell_type": "code",
   "execution_count": null,
   "id": "f01a7b86",
   "metadata": {},
   "outputs": [],
   "source": [
    "u_plot = w_sol.sub(0).collapse()\n",
    "u_grid = pv.UnstructuredGrid(*dolfinx.plot.vtk_mesh(u_plot.function_space))\n",
    "u_grid.point_data[\"u\"] = u_plot.x.array\n",
    "\n",
    "plotter = pv.Plotter()\n",
    "u_warped = u_grid.warp_by_scalar()\n",
    "plotter.add_mesh(u_warped, show_edges=True, scalar_bar_args={'vertical':True})\n",
    "plotter.show_grid(xlabel=\"x\", ylabel=\"t\", zlabel=\"u\")\n",
    "plotter.show()"
   ]
  },
  {
   "cell_type": "code",
   "execution_count": null,
   "id": "a5b63ec7",
   "metadata": {},
   "outputs": [],
   "source": []
  }
 ],
 "metadata": {
  "kernelspec": {
   "display_name": "Python (fx ipy)",
   "language": "python",
   "name": "fx-ipy"
  },
  "language_info": {
   "codemirror_mode": {
    "name": "ipython",
    "version": 3
   },
   "file_extension": ".py",
   "mimetype": "text/x-python",
   "name": "python",
   "nbconvert_exporter": "python",
   "pygments_lexer": "ipython3",
   "version": "3.13.3"
  }
 },
 "nbformat": 4,
 "nbformat_minor": 5
}
