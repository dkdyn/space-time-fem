{
 "cells": [
  {
   "cell_type": "markdown",
   "id": "6a08646b",
   "metadata": {},
   "source": [
    "### Tutorial on Space-time FEM with FEniCSx\n",
    "Dominik Kern ORCID [0000-0002-1958-2982](https://orcid.org/0000-0002-1958-2982) \n",
    "\n",
    "**solving the non-dimensional heat equation in a 1D bar\n",
    "using finite elements in space and time-stepping by  the mid-point rule (Crank-Nicolson)** "
   ]
  },
  {
   "cell_type": "markdown",
   "id": "9a23c214",
   "metadata": {},
   "source": [
    "#### parameters"
   ]
  },
  {
   "cell_type": "code",
   "execution_count": null,
   "id": "9b6b8503",
   "metadata": {},
   "outputs": [],
   "source": []
  },
  {
   "cell_type": "markdown",
   "id": "95b343dc",
   "metadata": {},
   "source": [
    "#### discretization"
   ]
  },
  {
   "cell_type": "code",
   "execution_count": null,
   "id": "da158d95",
   "metadata": {},
   "outputs": [],
   "source": []
  },
  {
   "cell_type": "markdown",
   "id": "192f05af",
   "metadata": {},
   "source": [
    "##### solution"
   ]
  },
  {
   "cell_type": "code",
   "execution_count": null,
   "id": "d8463fbf",
   "metadata": {},
   "outputs": [],
   "source": []
  },
  {
   "cell_type": "markdown",
   "id": "b8610ca0",
   "metadata": {},
   "source": [
    "#### post-processing"
   ]
  },
  {
   "cell_type": "code",
   "execution_count": null,
   "id": "2be6183f",
   "metadata": {},
   "outputs": [],
   "source": []
  }
 ],
 "metadata": {
  "kernelspec": {
   "display_name": "Python 3 (ipykernel)",
   "language": "python",
   "name": "python3"
  },
  "language_info": {
   "codemirror_mode": {
    "name": "ipython",
    "version": 3
   },
   "file_extension": ".py",
   "mimetype": "text/x-python",
   "name": "python",
   "nbconvert_exporter": "python",
   "pygments_lexer": "ipython3",
   "version": "3.12.3"
  }
 },
 "nbformat": 4,
 "nbformat_minor": 5
}
