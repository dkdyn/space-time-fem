{
 "cells": [
  {
   "cell_type": "markdown",
   "id": "6a08646b",
   "metadata": {},
   "source": [
    "### Tutorial on Space-time FEM with FEniCSx\n",
    "Dominik Kern ORCID [0000-0002-1958-2982](https://orcid.org/0000-0002-1958-2982) \n",
    "\n",
    "This notebook is a supplement to the tutorial with doi [10.5281/zenodo.16761462](https://zenodo.org/records/16761462)\n",
    "\n",
    "**solving non-dimensional wave equation in 1D with space-time FEM as BVP, i.e. with initial and final condition (not an IVP anymore)** "
   ]
  },
  {
   "cell_type": "code",
   "execution_count": null,
   "id": "97c7d1bf",
   "metadata": {},
   "outputs": [],
   "source": [
    "from mpi4py import MPI\n",
    "from dolfinx import mesh, geometry\n",
    "import numpy as np\n",
    "import pyvista as pv\n",
    "import ufl\n",
    "from dolfinx.fem import functionspace\n",
    "from dolfinx import default_scalar_type\n",
    "from dolfinx import fem\n",
    "from dolfinx.fem.petsc import LinearProblem\n",
    "from dolfinx import plot"
   ]
  },
  {
   "cell_type": "markdown",
   "id": "9a23c214",
   "metadata": {},
   "source": [
    "#### parameters"
   ]
  },
  {
   "cell_type": "code",
   "execution_count": null,
   "id": "9b6b8503",
   "metadata": {},
   "outputs": [],
   "source": [
    "nx = 4  # Number of spatial elements\n",
    "nt = 8  # Number of time elements\n",
    "order = 1  # Polynomial order"
   ]
  },
  {
   "cell_type": "markdown",
   "id": "95b343dc",
   "metadata": {},
   "source": [
    "#### discretization"
   ]
  },
  {
   "cell_type": "code",
   "execution_count": null,
   "id": "da158d95",
   "metadata": {},
   "outputs": [],
   "source": [
    "domain = mesh.create_unit_square(MPI.COMM_WORLD, nx, nt, mesh.CellType.quadrilateral)\n",
    "V = functionspace(domain, (\"Lagrange\", order))\n",
    "\n",
    "uD = fem.Function(V)   # exact solution\n",
    "uD.interpolate(lambda x: np.sin(np.pi*x[0])*np.cos(np.pi*x[1]))\n",
    "\n",
    "# Create facet to cell connectivity required to determine boundary facets\n",
    "tdim = domain.topology.dim\n",
    "fdim = tdim - 1\n",
    "domain.topology.create_connectivity(fdim, tdim)\n",
    "boundary_facets = mesh.exterior_facet_indices(domain.topology)\n",
    "\n",
    "boundary_dofs = fem.locate_dofs_topological(V, fdim, boundary_facets)\n",
    "bc = fem.dirichletbc(uD, boundary_dofs)\n",
    "\n",
    "u = ufl.TrialFunction(V)\n",
    "Du = ufl.TestFunction(V)\n",
    "\n",
    "f = fem.Constant(domain, default_scalar_type(0.0))\n",
    "K = fem.Constant(domain, np.array([[1, 0], [0, -1]], dtype=np.float64))\n",
    "\n",
    "a = ufl.dot(K*ufl.grad(u), ufl.grad(Du)) * ufl.dx   # vector equation\n",
    "L = f * Du * ufl.dx"
   ]
  },
  {
   "cell_type": "markdown",
   "id": "192f05af",
   "metadata": {},
   "source": [
    "##### solution"
   ]
  },
  {
   "cell_type": "code",
   "execution_count": null,
   "id": "d8463fbf",
   "metadata": {},
   "outputs": [],
   "source": [
    "problem = LinearProblem(a, L, bcs=[bc], petsc_options={\"ksp_type\": \"preonly\", \"pc_type\": \"lu\"})\n",
    "uh = problem.solve()"
   ]
  },
  {
   "cell_type": "markdown",
   "id": "b8610ca0",
   "metadata": {},
   "source": [
    "#### post-processing"
   ]
  },
  {
   "cell_type": "code",
   "execution_count": null,
   "id": "2be6183f",
   "metadata": {},
   "outputs": [],
   "source": [
    "plotter = pv.Plotter()\n",
    "u_topology, u_cell_types, u_geometry = plot.vtk_mesh(V)\n",
    "u_grid = pv.UnstructuredGrid(u_topology, u_cell_types, u_geometry)\n",
    "u_grid.point_data[\"u\"] = uh.x.array.real\n",
    "u_grid.set_active_scalars(\"u\")\n",
    "u_warped = u_grid.warp_by_scalar()\n",
    "plotter.add_mesh(u_warped, show_edges=True, scalar_bar_args={'vertical':True})\n",
    "if not pv.OFF_SCREEN:\n",
    "    plotter.show_grid(xlabel=\"x\", ylabel=\"t\", zlabel=\"u\")\n",
    "    plotter.show()"
   ]
  }
 ],
 "metadata": {
  "kernelspec": {
   "display_name": "Python (fx ipy)",
   "language": "python",
   "name": "fx-ipy"
  },
  "language_info": {
   "codemirror_mode": {
    "name": "ipython",
    "version": 3
   },
   "file_extension": ".py",
   "mimetype": "text/x-python",
   "name": "python",
   "nbconvert_exporter": "python",
   "pygments_lexer": "ipython3",
   "version": "3.13.3"
  }
 },
 "nbformat": 4,
 "nbformat_minor": 5
}
