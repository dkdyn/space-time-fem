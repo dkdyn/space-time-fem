{
 "cells": [
  {
   "cell_type": "markdown",
   "id": "ded32516",
   "metadata": {},
   "source": [
    "### Tutorial on Space-time FEM with FEniCSx\n",
    "Dominik Kern ORCID [0000-0002-1958-2982](https://orcid.org/0000-0002-1958-2982) \n",
    "\n",
    "**solving the non-dimensional heat equation in a 1D bar\n",
    "using finite elements in space and time-stepping by  the mid-point rule (Crank-Nicolson)** "
   ]
  },
  {
   "cell_type": "markdown",
   "id": "afa36591",
   "metadata": {},
   "source": [
    "#### parameters"
   ]
  },
  {
   "cell_type": "code",
   "execution_count": null,
   "id": "7115e2f7",
   "metadata": {},
   "outputs": [],
   "source": []
  },
  {
   "cell_type": "markdown",
   "id": "17cfcf87",
   "metadata": {},
   "source": [
    "#### discretization"
   ]
  },
  {
   "cell_type": "code",
   "execution_count": null,
   "id": "55c616c7",
   "metadata": {},
   "outputs": [],
   "source": []
  },
  {
   "cell_type": "markdown",
   "id": "43ea4bdd",
   "metadata": {},
   "source": [
    "##### solution"
   ]
  },
  {
   "cell_type": "code",
   "execution_count": null,
   "id": "4c4333df",
   "metadata": {},
   "outputs": [],
   "source": []
  },
  {
   "cell_type": "markdown",
   "id": "93ce55e3",
   "metadata": {},
   "source": [
    "#### post-processing"
   ]
  },
  {
   "cell_type": "code",
   "execution_count": null,
   "id": "5103dcf7",
   "metadata": {},
   "outputs": [],
   "source": []
  }
 ],
 "metadata": {
  "kernelspec": {
   "display_name": "Python 3 (ipykernel)",
   "language": "python",
   "name": "python3"
  },
  "language_info": {
   "codemirror_mode": {
    "name": "ipython",
    "version": 3
   },
   "file_extension": ".py",
   "mimetype": "text/x-python",
   "name": "python",
   "nbconvert_exporter": "python",
   "pygments_lexer": "ipython3",
   "version": "3.12.3"
  }
 },
 "nbformat": 4,
 "nbformat_minor": 5
}
