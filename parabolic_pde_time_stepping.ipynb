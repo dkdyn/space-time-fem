{
 "cells": [
  {
   "cell_type": "markdown",
   "id": "ded32516",
   "metadata": {},
   "source": [
    "### Tutorial on Space-time FEM with FEniCSx\n",
    "Dominik Kern ORCID [0000-0002-1958-2982](https://orcid.org/0000-0002-1958-2982) \n",
    "\n",
    "This notebook is a supplement to the tutorial TODO zenodo.doi\n",
    "\n",
    "**solving the non-dimensional heat equation in a 1D bar\n",
    "using finite elements in space and time-stepping by  the mid-point rule (Crank-Nicolson)** "
   ]
  },
  {
   "cell_type": "code",
   "execution_count": null,
   "id": "4b2fe1be",
   "metadata": {},
   "outputs": [],
   "source": [
    "import numpy as np\n",
    "import ufl\n",
    "from dolfinx import geometry\n",
    "from dolfinx.fem import (Constant, Function, functionspace, dirichletbc, form)\n",
    "from dolfinx.fem.petsc import LinearProblem\n",
    "from dolfinx.fem import locate_dofs_geometrical\n",
    "from dolfinx.mesh import create_unit_interval\n",
    "from mpi4py import MPI\n",
    "import pyvista as pv"
   ]
  },
  {
   "cell_type": "markdown",
   "id": "afa36591",
   "metadata": {},
   "source": [
    "#### parameters"
   ]
  },
  {
   "cell_type": "code",
   "execution_count": null,
   "id": "7115e2f7",
   "metadata": {},
   "outputs": [],
   "source": [
    "T = 1.0             # Total simulation time\n",
    "nt = 8              # Number of time steps\n",
    "dt_val = T / nt     # Time step size\n",
    "comm = MPI.COMM_WORLD\n",
    "nx = 4              # Number of elements in the spatial mesh\n",
    "order = 1           # Polynomial order of spatial elements (time-stepping is fixed)"
   ]
  },
  {
   "cell_type": "markdown",
   "id": "17cfcf87",
   "metadata": {},
   "source": [
    "#### discretization"
   ]
  },
  {
   "cell_type": "code",
   "execution_count": null,
   "id": "55c616c7",
   "metadata": {},
   "outputs": [],
   "source": [
    "domain = create_unit_interval(comm, nx)\n",
    "V = functionspace(domain, (\"Lagrange\", order))\n",
    "\n",
    "def initial_condition(x):\n",
    "    return np.sin(np.pi * x[0])\n",
    "u_n = Function(V)\n",
    "u_n.name = \"u_n\"\n",
    "u_n.interpolate(initial_condition)\n",
    "\n",
    "boundary_dofs_L = locate_dofs_geometrical(V, lambda x: np.isclose(x[0], 0))\n",
    "boundary_dofs_R = locate_dofs_geometrical(V, lambda x: np.isclose(x[0], 1))\n",
    "bc_L = dirichletbc(np.float64(0.0), boundary_dofs_L, V)\n",
    "bc_R = dirichletbc(np.float64(0.0), boundary_dofs_R, V)\n",
    "bcs = [bc_L, bc_R]\n",
    "\n",
    "u = ufl.TrialFunction(V)\n",
    "Du = ufl.TestFunction(V)\n",
    "\n",
    "dt = Constant(domain, np.float64(dt_val))\n",
    "\n",
    "a = u * Du * ufl.dx + 0.5 * dt  * ufl.dot(ufl.grad(u), ufl.grad(Du)) * ufl.dx\n",
    "L = u_n * Du * ufl.dx - 0.5 * dt * ufl.dot(ufl.grad(u_n), ufl.grad(Du)) * ufl.dx\n",
    "problem_a = form(a)\n",
    "problem_L = form(L)"
   ]
  },
  {
   "cell_type": "markdown",
   "id": "43ea4bdd",
   "metadata": {},
   "source": [
    "##### solution"
   ]
  },
  {
   "cell_type": "code",
   "execution_count": null,
   "id": "4c4333df",
   "metadata": {},
   "outputs": [],
   "source": [
    "uh = Function(V)\n",
    "uh.name = \"u_timestep\"\n",
    "\n",
    "problem = LinearProblem(problem_a, problem_L, bcs=bcs, u=uh, petsc_options={\"ksp_type\": \"preonly\", \"pc_type\": \"lu\"})\n",
    "\n",
    "# sort u values by x-coordinate to map them to plot-grid correctly\n",
    "x_coords = V.tabulate_dof_coordinates()[:, 0]\n",
    "sort_order = np.argsort(x_coords)\n",
    "u_sol = np.zeros((nt+1, nx*order+1))\n",
    "u_sol[0, :] = u_n.x.array[sort_order]\n",
    "\n",
    "t = 0.0\n",
    "for n in range(nt):\n",
    "    t += dt_val\n",
    "    problem.solve()\n",
    "    u_n.x.array[:] = uh.x.array\n",
    "    x_coords = V.tabulate_dof_coordinates()[:, 0]\n",
    "    sort_order = np.argsort(x_coords)\n",
    "    u_values = uh.x.array\n",
    "    u_sol[n+1, :] =  u_values[sort_order]"
   ]
  },
  {
   "cell_type": "markdown",
   "id": "93ce55e3",
   "metadata": {},
   "source": [
    "#### post-processing\n",
    "collecting all results on a space-time grid for plotting"
   ]
  },
  {
   "cell_type": "code",
   "execution_count": null,
   "id": "5103dcf7",
   "metadata": {},
   "outputs": [],
   "source": [
    "xt = np.meshgrid(np.linspace(0, 1, nx*order+1), np.linspace(0, T, nt+1), indexing='ij')\n",
    "X, T = xt  \n",
    "\n",
    "u_grid = u_sol.T  \n",
    "\n",
    "points = np.zeros((X.size, 3))\n",
    "points[:, 0] = X.ravel(order=\"F\")  # x\n",
    "points[:, 1] = T.ravel(order=\"F\")  # t\n",
    "points[:, 2] = u_grid.ravel(order=\"F\")  # u as height\n",
    "\n",
    "grid = pv.StructuredGrid()\n",
    "grid.points = points\n",
    "grid.dimensions = [X.shape[0], X.shape[1], 1]\n",
    "grid[\"u\"] = u_grid.ravel(order=\"F\")\n",
    "\n",
    "plotter = pv.Plotter()\n",
    "plotter.add_mesh(grid, scalars=\"u\", cmap=\"viridis\", show_edges=True, scalar_bar_args={'vertical':True})\n",
    "plotter.show_grid(xlabel=\"x\", ylabel=\"t\", zlabel=\"u\")\n",
    "plotter.show(title=\"u(x, t) surface plot\")"
   ]
  },
  {
   "cell_type": "code",
   "execution_count": null,
   "id": "72619632",
   "metadata": {},
   "outputs": [],
   "source": []
  }
 ],
 "metadata": {
  "kernelspec": {
   "display_name": "Python (fx ipy)",
   "language": "python",
   "name": "fx-ipy"
  },
  "language_info": {
   "codemirror_mode": {
    "name": "ipython",
    "version": 3
   },
   "file_extension": ".py",
   "mimetype": "text/x-python",
   "name": "python",
   "nbconvert_exporter": "python",
   "pygments_lexer": "ipython3",
   "version": "3.13.3"
  }
 },
 "nbformat": 4,
 "nbformat_minor": 5
}
