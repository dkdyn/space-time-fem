{
 "cells": [
  {
   "cell_type": "markdown",
   "id": "a4bcde03",
   "metadata": {},
   "source": [
    "### Tutorial on Space-time FEM with FEniCSx\n",
    "Dominik Kern ORCID [0000-0002-1958-2982](https://orcid.org/0000-0002-1958-2982) \n",
    "\n",
    "**solving the non-dimensional heat equation in a 1D bar\n",
    "using finite elements in space and time-stepping by  the mid-point rule (Crank-Nicolson)** "
   ]
  },
  {
   "cell_type": "markdown",
   "id": "ca66c398",
   "metadata": {},
   "source": [
    "#### parameters"
   ]
  },
  {
   "cell_type": "code",
   "execution_count": null,
   "id": "3a862651",
   "metadata": {},
   "outputs": [],
   "source": []
  },
  {
   "cell_type": "markdown",
   "id": "f154fc2d",
   "metadata": {},
   "source": [
    "#### discretization"
   ]
  },
  {
   "cell_type": "code",
   "execution_count": null,
   "id": "8cd1ae89",
   "metadata": {},
   "outputs": [],
   "source": []
  },
  {
   "cell_type": "markdown",
   "id": "a3f08867",
   "metadata": {},
   "source": [
    "##### solution"
   ]
  },
  {
   "cell_type": "code",
   "execution_count": null,
   "id": "5da1a2f3",
   "metadata": {},
   "outputs": [],
   "source": []
  },
  {
   "cell_type": "markdown",
   "id": "184ca844",
   "metadata": {},
   "source": [
    "#### post-processing"
   ]
  },
  {
   "cell_type": "code",
   "execution_count": null,
   "id": "db856372",
   "metadata": {},
   "outputs": [],
   "source": []
  }
 ],
 "metadata": {
  "kernelspec": {
   "display_name": "Python 3 (ipykernel)",
   "language": "python",
   "name": "python3"
  },
  "language_info": {
   "codemirror_mode": {
    "name": "ipython",
    "version": 3
   },
   "file_extension": ".py",
   "mimetype": "text/x-python",
   "name": "python",
   "nbconvert_exporter": "python",
   "pygments_lexer": "ipython3",
   "version": "3.12.3"
  }
 },
 "nbformat": 4,
 "nbformat_minor": 5
}
