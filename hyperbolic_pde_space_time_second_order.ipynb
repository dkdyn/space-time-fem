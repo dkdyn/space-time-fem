{
 "cells": [
  {
   "cell_type": "markdown",
   "id": "a4bcde03",
   "metadata": {},
   "source": [
    "### Tutorial on Space-time FEM with FEniCSx\n",
    "Dominik Kern ORCID [0000-0002-1958-2982](https://orcid.org/0000-0002-1958-2982) \n",
    "\n",
    "This notebook is a supplement to the tutorial with doi [10.5281/zenodo.16761463](https://zenodo.org/records/16761463)\n",
    "\n",
    "**solving the non-dimensional wave equation in a 1D bar using space-time finite-elements with the formulation as second-order equation** "
   ]
  },
  {
   "cell_type": "code",
   "execution_count": null,
   "id": "6e8407cc",
   "metadata": {},
   "outputs": [],
   "source": [
    "import numpy as np\n",
    "import ufl\n",
    "from dolfinx import geometry\n",
    "from dolfinx import fem, mesh, plot\n",
    "from dolfinx.fem.petsc import LinearProblem\n",
    "from mpi4py import MPI\n",
    "from petsc4py.PETSc import ScalarType\n",
    "import pyvista as pv"
   ]
  },
  {
   "cell_type": "markdown",
   "id": "ca66c398",
   "metadata": {},
   "source": [
    "#### parameters"
   ]
  },
  {
   "cell_type": "code",
   "execution_count": null,
   "id": "3a862651",
   "metadata": {},
   "outputs": [],
   "source": [
    "nx = 4\n",
    "nt = 8\n",
    "order = 1  # Polynomial order"
   ]
  },
  {
   "cell_type": "markdown",
   "id": "f154fc2d",
   "metadata": {},
   "source": [
    "#### discretization"
   ]
  },
  {
   "cell_type": "code",
   "execution_count": null,
   "id": "8cd1ae89",
   "metadata": {},
   "outputs": [],
   "source": [
    "domain = mesh.create_unit_square(MPI.COMM_WORLD, nx, nt, mesh.CellType.quadrilateral)\n",
    "V = fem.functionspace(domain, (\"Lagrange\", order))\n",
    "\n",
    "# Locate facets for boundary conditions (initial time and left/right boundaries)\n",
    "fdim = domain.topology.dim - 1\n",
    "facets_t0 = mesh.locate_entities_boundary(domain, fdim, lambda x: np.isclose(x[1], 0.0))\n",
    "facets_space = mesh.locate_entities_boundary(domain, fdim, lambda x: np.logical_or(np.isclose(x[0], 0.0), np.isclose(x[0], 1.0)))\n",
    "\n",
    "# Initial displacement u(x, 0) = u_0(x)\n",
    "def u0_func(x):\n",
    "    return np.sin(np.pi * x[0])\n",
    "u_initial = fem.Function(V)\n",
    "u_initial.interpolate(u0_func)\n",
    "dofs_t0 = fem.locate_dofs_topological(V, fdim, facets_t0)\n",
    "bc_t0 = fem.dirichletbc(u_initial, dofs_t0)\n",
    "\n",
    "# Initial velocity v(x, 0) = v_0(x) = 0\n",
    "v0 = fem.Function(V)\n",
    "v0.interpolate(lambda x: np.zeros_like(x[0]))\n",
    "\n",
    "# Spatial boundary u(0,t) = u(1,t) = 0\n",
    "dofs_space = fem.locate_dofs_topological(V, fdim, facets_space)\n",
    "bc_space = fem.dirichletbc(ScalarType(0.0), dofs_space, V)\n",
    "\n",
    "bcs = [bc_t0, bc_space]\n",
    "\n",
    "u = ufl.TrialFunction(V)\n",
    "Du = ufl.TestFunction(V)\n",
    "\n",
    "# Source term f\n",
    "f = fem.Constant(domain, ScalarType(0.0))\n",
    "\n",
    "# Define the boundary integral for the initial velocity, mark the t=0 boundary with tag 1\n",
    "T0_MARKER = 1\n",
    "facet_tags = mesh.meshtags(domain, fdim, facets_t0, np.full_like(facets_t0, T0_MARKER))\n",
    "ds = ufl.Measure(\"ds\", domain=domain, subdomain_data=facet_tags)\n",
    "\n",
    "# Bilinear form\n",
    "a = (u.dx(0) * Du.dx(0) - u.dx(1) * Du.dx(1)) * ufl.dx\n",
    "L = f * Du * ufl.dx + v0 * Du * ds(T0_MARKER)"
   ]
  },
  {
   "cell_type": "markdown",
   "id": "a3f08867",
   "metadata": {},
   "source": [
    "##### solution"
   ]
  },
  {
   "cell_type": "code",
   "execution_count": null,
   "id": "5da1a2f3",
   "metadata": {},
   "outputs": [],
   "source": [
    "problem = LinearProblem(a, L, bcs=bcs, petsc_options={\"ksp_type\": \"preonly\", \"pc_type\": \"lu\"})\n",
    "uh = problem.solve()"
   ]
  },
  {
   "cell_type": "markdown",
   "id": "184ca844",
   "metadata": {},
   "source": [
    "#### post-processing"
   ]
  },
  {
   "cell_type": "code",
   "execution_count": null,
   "id": "db856372",
   "metadata": {},
   "outputs": [],
   "source": [
    "u_topology, u_cell_types, u_geometry = plot.vtk_mesh(V)\n",
    "u_grid = pv.UnstructuredGrid(u_topology, u_cell_types, u_geometry)\n",
    "u_grid.point_data[\"u\"] = uh.x.array.real\n",
    "u_grid.set_active_scalars(\"u\")\n",
    "plotter = pv.Plotter()\n",
    "u_warped = u_grid.warp_by_scalar()\n",
    "plotter.add_mesh(u_warped, show_edges=True, scalar_bar_args={\"vertical\":True})\n",
    "if not pv.OFF_SCREEN:\n",
    "    plotter.show_grid(xlabel=\"x\", ylabel=\"t\", zlabel=\"u\")\n",
    "    plotter.show()"
   ]
  }
 ],
 "metadata": {
  "kernelspec": {
   "display_name": "Python 3 (ipykernel)",
   "language": "python",
   "name": "python3"
  },
  "language_info": {
   "codemirror_mode": {
    "name": "ipython",
    "version": 3
   },
   "file_extension": ".py",
   "mimetype": "text/x-python",
   "name": "python",
   "nbconvert_exporter": "python",
   "pygments_lexer": "ipython3",
   "version": "3.12.3"
  }
 },
 "nbformat": 4,
 "nbformat_minor": 5
}
