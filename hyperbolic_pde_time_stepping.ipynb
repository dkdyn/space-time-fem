{
 "cells": [
  {
   "cell_type": "markdown",
   "id": "67cdb035",
   "metadata": {},
   "source": [
    "### Tutorial on Space-time FEM with FEniCSx\n",
    "Dominik Kern ORCID [0000-0002-1958-2982](https://orcid.org/0000-0002-1958-2982) \n",
    "\n",
    "This notebook is a supplement to the tutorial with doi [10.5281/zenodo.16761462](https://zenodo.org/records/16761462)\n",
    "\n",
    "**Solving the non-dimensional wave equation in a 1D bar using time-stepping with the leap-frog method**"
   ]
  },
  {
   "cell_type": "code",
   "execution_count": null,
   "id": "7f59fcf0",
   "metadata": {},
   "outputs": [],
   "source": [
    "import dolfinx\n",
    "from dolfinx import geometry\n",
    "from dolfinx.fem import Function, form\n",
    "from dolfinx.fem.petsc import LinearProblem\n",
    "from dolfinx.mesh import create_unit_interval\n",
    "from dolfinx.io import VTXWriter\n",
    "from ufl import TrialFunction, TestFunction, dx, inner, grad, sin, pi, SpatialCoordinate\n",
    "from petsc4py import PETSc\n",
    "from mpi4py import MPI\n",
    "import numpy as np\n",
    "import pyvista as pv"
   ]
  },
  {
   "cell_type": "markdown",
   "id": "c00bc70e",
   "metadata": {},
   "source": [
    "#### parameters"
   ]
  },
  {
   "cell_type": "code",
   "execution_count": null,
   "id": "d5b70b25",
   "metadata": {},
   "outputs": [],
   "source": [
    "nx = 4  # Number of spatial cells\n",
    "nt = 8 # observation, may not be less the 2*nx*order\n",
    "order = 1 # Polynomial order for spatial FEM only (time-stepping is fixed)\n",
    "T = 1.0  # Total time (unit interval)\n",
    "dt = T/nt  # Time step "
   ]
  },
  {
   "cell_type": "markdown",
   "id": "fa5b9d7b",
   "metadata": {},
   "source": [
    "#### discretization"
   ]
  },
  {
   "cell_type": "code",
   "execution_count": null,
   "id": "73094b4f",
   "metadata": {},
   "outputs": [],
   "source": [
    "domain = create_unit_interval(MPI.COMM_WORLD, nx)   \n",
    "V = dolfinx.fem.functionspace(domain, (\"Lagrange\", order))\n",
    "\n",
    "u = TrialFunction(V)\n",
    "Du = TestFunction(V)\n",
    "\n",
    "# 3. Time-stepping variables\n",
    "u_n = Function(V)  # u at current time step (n)\n",
    "u_n_minus_1 = Function(V)  # u at previous time step (n-1)\n",
    "u_n_plus_1 = Function(V)  # u at next time step (n+1)\n",
    "\n",
    "# 4. Initial conditions\n",
    "u_n.interpolate(lambda x: np.sin(np.pi * x[0]))\n",
    "u_n_minus_1.interpolate(lambda x: np.sin(np.pi * x[0])) # Assuming zero initial velocity, i.e. same displacements on the time before start\n",
    "\n",
    "# 5. Weak form for Leap-Frog method\n",
    "a = inner(u, Du) * dx  # This will be the mass matrix\n",
    "L = (2 * u_n - u_n_minus_1) * Du * dx - dt**2  * inner(grad(u_n), grad(Du)) * dx\n",
    "\n",
    "# 6. Boundary Conditions (Homogeneous Dirichlet at x=0 and x=Lx)\n",
    "left_boundary = lambda x: np.isclose(x[0], 0.0)\n",
    "right_boundary = lambda x: np.isclose(x[0], 1.0)\n",
    "\n",
    "left_facets = dolfinx.mesh.locate_entities_boundary(domain, domain.topology.dim - 1, left_boundary)\n",
    "right_facets = dolfinx.mesh.locate_entities_boundary(domain, domain.topology.dim - 1, right_boundary)\n",
    "\n",
    "left_dofs = dolfinx.fem.locate_dofs_topological(V, domain.topology.dim - 1, left_facets)\n",
    "right_dofs = dolfinx.fem.locate_dofs_topological(V, domain.topology.dim - 1, right_facets)\n",
    "\n",
    "bcs = [dolfinx.fem.dirichletbc(PETSc.ScalarType(0.0), left_dofs, V),\n",
    "    dolfinx.fem.dirichletbc(PETSc.ScalarType(0.0), right_dofs, V)]"
   ]
  },
  {
   "cell_type": "markdown",
   "id": "1284fcc7",
   "metadata": {},
   "source": [
    "##### solution"
   ]
  },
  {
   "cell_type": "code",
   "execution_count": null,
   "id": "65655a37",
   "metadata": {},
   "outputs": [],
   "source": [
    "problem = LinearProblem(a, L, bcs=bcs, u=u_n_plus_1, petsc_options={\"ksp_type\": \"preonly\", \"pc_type\": \"lu\", \"pc_factor_mat_solver_type\": \"mumps\"})\n",
    "\n",
    "# sort result by x-coordinate to synchronize with plot-grid\n",
    "x_coords = V.tabulate_dof_coordinates()[:, 0]\n",
    "sort_order = np.argsort(x_coords)\n",
    "u_sol = np.zeros((nt+1, order*nx+1))\n",
    "u_sol[0, :] = u_n.x.array[sort_order]\n",
    "\n",
    "t = 0.0\n",
    "for n in range(nt):\n",
    "    t += dt\n",
    "    problem.solve()\n",
    "\n",
    "    # Update for next time step\n",
    "    u_n_minus_1.x.array[:] = u_n.x.array\n",
    "    u_n.x.array[:] = u_n_plus_1.x.array\n",
    "\n",
    "    x_coords = V.tabulate_dof_coordinates()[:, 0]\n",
    "    sort_order = np.argsort(x_coords)\n",
    "    u_values = u_n.x.array\n",
    "    u_sol[n+1, :] =  u_values[sort_order]"
   ]
  },
  {
   "cell_type": "markdown",
   "id": "9fc7f960",
   "metadata": {},
   "source": [
    "#### post-processing"
   ]
  },
  {
   "cell_type": "code",
   "execution_count": null,
   "id": "523c1319",
   "metadata": {},
   "outputs": [],
   "source": [
    "xt = np.meshgrid(np.linspace(0, 1, order*nx+1), np.linspace(0, T, nt+1), indexing='ij')\n",
    "X, T = xt  \n",
    "\n",
    "u_grid = u_sol.T  \n",
    "\n",
    "points = np.zeros((X.size, 3))\n",
    "points[:, 0] = X.ravel(order=\"F\")  # x\n",
    "points[:, 1] = T.ravel(order=\"F\")  # t\n",
    "points[:, 2] = u_grid.ravel(order=\"F\")  # u as height\n",
    "\n",
    "grid = pv.StructuredGrid()\n",
    "grid.points = points\n",
    "grid.dimensions = [X.shape[0], X.shape[1], 1]\n",
    "grid[\"u\"] = u_grid.ravel(order=\"F\")\n",
    "\n",
    "plotter = pv.Plotter()\n",
    "plotter.add_mesh(grid, scalars=\"u\", cmap=\"viridis\", show_edges=True, scalar_bar_args={'vertical':True})\n",
    "plotter.show_grid(xlabel=\"x\", ylabel=\"t\", zlabel=\"u\")\n",
    "plotter.show()"
   ]
  }
 ],
 "metadata": {
  "kernelspec": {
   "display_name": "Python (fx ipy)",
   "language": "python",
   "name": "fx-ipy"
  },
  "language_info": {
   "codemirror_mode": {
    "name": "ipython",
    "version": 3
   },
   "file_extension": ".py",
   "mimetype": "text/x-python",
   "name": "python",
   "nbconvert_exporter": "python",
   "pygments_lexer": "ipython3",
   "version": "3.13.3"
  }
 },
 "nbformat": 4,
 "nbformat_minor": 5
}
